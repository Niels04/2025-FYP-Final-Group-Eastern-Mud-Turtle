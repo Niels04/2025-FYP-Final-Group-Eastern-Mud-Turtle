{
 "cells": [
  {
   "cell_type": "code",
   "execution_count": 27,
   "metadata": {},
   "outputs": [],
   "source": [
    "from feature_A import fA_extractor\n",
    "import cv2\n",
    "import numpy as np\n",
    "from PIL import Image"
   ]
  },
  {
   "cell_type": "code",
   "execution_count": 28,
   "metadata": {},
   "outputs": [
    {
     "data": {
      "text/plain": [
       "(0.29303666666666667,\n",
       " {0.0: 0.4118,\n",
       "  3.0: 0.4273,\n",
       "  6.0: 0.4328,\n",
       "  9.0: 0.4316,\n",
       "  12.0: 0.4245,\n",
       "  15.0: 0.4107,\n",
       "  18.0: 0.3913,\n",
       "  21.0: 0.3667,\n",
       "  24.0: 0.3398,\n",
       "  27.0: 0.3155,\n",
       "  30.0: 0.2944,\n",
       "  33.0: 0.2667,\n",
       "  36.0: 0.2366,\n",
       "  39.0: 0.2073,\n",
       "  42.0: 0.1801,\n",
       "  45.0: 0.153,\n",
       "  48.0: 0.1392,\n",
       "  51.0: 0.1341,\n",
       "  54.0: 0.1518,\n",
       "  57.0: 0.1675,\n",
       "  60.0: 0.1826,\n",
       "  63.0: 0.196,\n",
       "  66.0: 0.2259,\n",
       "  69.0: 0.2575,\n",
       "  72.0: 0.2862,\n",
       "  75.0: 0.3117,\n",
       "  78.0: 0.3336,\n",
       "  81.0: 0.3515,\n",
       "  84.0: 0.3696,\n",
       "  87.0: 0.3938})"
      ]
     },
     "execution_count": 28,
     "metadata": {},
     "output_type": "execute_result"
    }
   ],
   "source": [
    "#working example\n",
    "mask_path = r\"..\\data\\MaskImagePair\\PAT_76_1039_269_mask.png\"\n",
    "mask_image = Image.open(mask_path).convert(\"L\")\n",
    "mask_array = np.array(mask_image)\n",
    "\n",
    "fA_extractor(mask_array)"
   ]
  },
  {
   "cell_type": "code",
   "execution_count": 8,
   "metadata": {},
   "outputs": [
    {
     "ename": "IndexError",
     "evalue": "tuple index out of range",
     "output_type": "error",
     "traceback": [
      "\u001b[1;31m---------------------------------------------------------------------------\u001b[0m",
      "\u001b[1;31mIndexError\u001b[0m                                Traceback (most recent call last)",
      "Cell \u001b[1;32mIn[8], line 5\u001b[0m\n\u001b[0;32m      3\u001b[0m mask \u001b[38;5;241m=\u001b[39m cv2\u001b[38;5;241m.\u001b[39mimread(mask_path, cv2\u001b[38;5;241m.\u001b[39mIMREAD_GRAYSCALE)\n\u001b[0;32m      4\u001b[0m mask \u001b[38;5;241m=\u001b[39m np\u001b[38;5;241m.\u001b[39marray(mask)\n\u001b[1;32m----> 5\u001b[0m fA_extractor(mask)\n",
      "File \u001b[1;32mc:\\Users\\khatt\\Desktop\\2025-FYP-Final-GroupE\\util\\feature_A.py:107\u001b[0m, in \u001b[0;36mfA_extractor\u001b[1;34m(mask)\u001b[0m\n\u001b[0;32m    103\u001b[0m     mean_score \u001b[38;5;241m=\u001b[39m \u001b[38;5;28msum\u001b[39m(asymmetry_scores\u001b[38;5;241m.\u001b[39mvalues()) \u001b[38;5;241m/\u001b[39m \u001b[38;5;28mlen\u001b[39m(asymmetry_scores)\n\u001b[0;32m    105\u001b[0m     \u001b[38;5;28;01mreturn\u001b[39;00m mean_score    \n\u001b[1;32m--> 107\u001b[0m mean_score \u001b[38;5;241m=\u001b[39m mean_asymmetry(mask)\n\u001b[0;32m    108\u001b[0m worst_asymmetry \u001b[38;5;241m=\u001b[39m np\u001b[38;5;241m.\u001b[39mmax(rotation_asymmetry(mask, \u001b[38;5;241m30\u001b[39m))\n\u001b[0;32m    110\u001b[0m \u001b[38;5;28;01mreturn\u001b[39;00m mean_score, worst_asymmetry\n",
      "File \u001b[1;32mc:\\Users\\khatt\\Desktop\\2025-FYP-Final-GroupE\\util\\feature_A.py:102\u001b[0m, in \u001b[0;36mfA_extractor.<locals>.mean_asymmetry\u001b[1;34m(mask, rotations)\u001b[0m\n\u001b[0;32m    100\u001b[0m \u001b[38;5;28;01mdef\u001b[39;00m \u001b[38;5;21mmean_asymmetry\u001b[39m(mask, rotations \u001b[38;5;241m=\u001b[39m \u001b[38;5;241m30\u001b[39m):\n\u001b[1;32m--> 102\u001b[0m     asymmetry_scores \u001b[38;5;241m=\u001b[39m rotation_asymmetry(mask, rotations) \u001b[38;5;66;03m#\u001b[39;00m\n\u001b[0;32m    103\u001b[0m     mean_score \u001b[38;5;241m=\u001b[39m \u001b[38;5;28msum\u001b[39m(asymmetry_scores\u001b[38;5;241m.\u001b[39mvalues()) \u001b[38;5;241m/\u001b[39m \u001b[38;5;28mlen\u001b[39m(asymmetry_scores)\n\u001b[0;32m    105\u001b[0m     \u001b[38;5;28;01mreturn\u001b[39;00m mean_score\n",
      "File \u001b[1;32mc:\\Users\\khatt\\Desktop\\2025-FYP-Final-GroupE\\util\\feature_A.py:91\u001b[0m, in \u001b[0;36mfA_extractor.<locals>.rotation_asymmetry\u001b[1;34m(mask, n)\u001b[0m\n\u001b[0;32m     87\u001b[0m \u001b[38;5;28;01mfor\u001b[39;00m i \u001b[38;5;129;01min\u001b[39;00m \u001b[38;5;28mrange\u001b[39m(n):\n\u001b[0;32m     89\u001b[0m     degrees \u001b[38;5;241m=\u001b[39m \u001b[38;5;241m90\u001b[39m \u001b[38;5;241m*\u001b[39m i \u001b[38;5;241m/\u001b[39m n\n\u001b[1;32m---> 91\u001b[0m     rotated_mask \u001b[38;5;241m=\u001b[39m rotate(mask, degrees)\n\u001b[0;32m     92\u001b[0m     cutted_mask \u001b[38;5;241m=\u001b[39m cut_mask(rotated_mask)\n\u001b[0;32m     94\u001b[0m     asymmetry_scores[degrees] \u001b[38;5;241m=\u001b[39m asymmetry(cutted_mask)\n",
      "File \u001b[1;32mc:\\ProgramData\\anaconda3\\Lib\\site-packages\\skimage\\transform\\_warps.py:408\u001b[0m, in \u001b[0;36mrotate\u001b[1;34m(image, angle, resize, center, order, mode, cval, clip, preserve_range)\u001b[0m\n\u001b[0;32m    330\u001b[0m \u001b[38;5;28;01mdef\u001b[39;00m \u001b[38;5;21mrotate\u001b[39m(\n\u001b[0;32m    331\u001b[0m     image,\n\u001b[0;32m    332\u001b[0m     angle,\n\u001b[1;32m   (...)\u001b[0m\n\u001b[0;32m    339\u001b[0m     preserve_range\u001b[38;5;241m=\u001b[39m\u001b[38;5;28;01mFalse\u001b[39;00m,\n\u001b[0;32m    340\u001b[0m ):\n\u001b[0;32m    341\u001b[0m \u001b[38;5;250m    \u001b[39m\u001b[38;5;124;03m\"\"\"Rotate image by a certain angle around its center.\u001b[39;00m\n\u001b[0;32m    342\u001b[0m \n\u001b[0;32m    343\u001b[0m \u001b[38;5;124;03m    Parameters\u001b[39;00m\n\u001b[1;32m   (...)\u001b[0m\n\u001b[0;32m    405\u001b[0m \n\u001b[0;32m    406\u001b[0m \u001b[38;5;124;03m    \"\"\"\u001b[39;00m\n\u001b[1;32m--> 408\u001b[0m     rows, cols \u001b[38;5;241m=\u001b[39m image\u001b[38;5;241m.\u001b[39mshape[\u001b[38;5;241m0\u001b[39m], image\u001b[38;5;241m.\u001b[39mshape[\u001b[38;5;241m1\u001b[39m]\n\u001b[0;32m    410\u001b[0m     \u001b[38;5;28;01mif\u001b[39;00m image\u001b[38;5;241m.\u001b[39mdtype \u001b[38;5;241m==\u001b[39m np\u001b[38;5;241m.\u001b[39mfloat16:\n\u001b[0;32m    411\u001b[0m         image \u001b[38;5;241m=\u001b[39m image\u001b[38;5;241m.\u001b[39mastype(np\u001b[38;5;241m.\u001b[39mfloat32)\n",
      "\u001b[1;31mIndexError\u001b[0m: tuple index out of range"
     ]
    }
   ],
   "source": [
    "#testing with grayscale\n",
    "mask_path = r\"data/MaskImagePair/PAT_76_1039_269_mask.png\"\n",
    "mask = cv2.imread(mask_path, cv2.IMREAD_GRAYSCALE)\n",
    "mask = np.array(mask)\n",
    "fA_extractor(mask)"
   ]
  },
  {
   "cell_type": "code",
   "execution_count": null,
   "metadata": {},
   "outputs": [],
   "source": [
    "#testing with binary mask"
   ]
  }
 ],
 "metadata": {
  "kernelspec": {
   "display_name": "base",
   "language": "python",
   "name": "python3"
  },
  "language_info": {
   "codemirror_mode": {
    "name": "ipython",
    "version": 3
   },
   "file_extension": ".py",
   "mimetype": "text/x-python",
   "name": "python",
   "nbconvert_exporter": "python",
   "pygments_lexer": "ipython3",
   "version": "3.12.7"
  }
 },
 "nbformat": 4,
 "nbformat_minor": 2
}
