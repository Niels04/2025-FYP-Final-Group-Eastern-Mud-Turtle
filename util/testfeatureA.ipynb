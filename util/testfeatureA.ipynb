{
 "cells": [
  {
   "cell_type": "code",
   "execution_count": 6,
   "metadata": {},
   "outputs": [],
   "source": [
    "from feature_A import fA_extractor\n",
    "import cv2\n",
    "import numpy as np\n",
    "from PIL import Image\n",
    "from img_util import ImageDataLoader as IDL"
   ]
  },
  {
   "cell_type": "code",
   "execution_count": 7,
   "metadata": {},
   "outputs": [
    {
     "name": "stdout",
     "output_type": "stream",
     "text": [
      "0.29303666666666667\n"
     ]
    }
   ],
   "source": [
    "#working example\n",
    "mask_path = r\"../data/MaskImagePair/PAT_76_1039_269_mask.png\"\n",
    "mask_image = Image.open(mask_path).convert(\"L\")\n",
    "mask_array = np.array(mask_image)\n",
    "\n",
    "score,worst = fA_extractor(mask_array)\n",
    "\n",
    "print(score)"
   ]
  },
  {
   "cell_type": "code",
   "execution_count": 8,
   "metadata": {},
   "outputs": [
    {
     "name": "stdout",
     "output_type": "stream",
     "text": [
      "0.29303666666666667\n"
     ]
    }
   ],
   "source": [
    "#testing with grayscale\n",
    "mask_path = r\"../data/MaskImagePair/PAT_76_1039_269_mask.png\"\n",
    "mask = cv2.imread(mask_path, cv2.IMREAD_GRAYSCALE)\n",
    "\n",
    "score,worst = fA_extractor(mask_array)\n",
    "\n",
    "print(score)"
   ]
  },
  {
   "cell_type": "code",
   "execution_count": 9,
   "metadata": {},
   "outputs": [
    {
     "name": "stdout",
     "output_type": "stream",
     "text": [
      "(0.2544866666666667, 0.3789)\n",
      "(0.5593733333333334, 0.7174)\n",
      "(0.14292333333333332, 0.207)\n",
      "(0.13179666666666665, 0.1822)\n",
      "(0.11808000000000002, 0.1627)\n",
      "(0.09663, 0.1432)\n",
      "(0.13595666666666661, 0.1791)\n",
      "(0.7582533333333331, 0.9468)\n",
      "(0.08628333333333334, 0.1209)\n",
      "(0.15016333333333332, 0.1983)\n",
      "(0.09625, 0.1181)\n",
      "(0.5846566666666667, 0.7145)\n",
      "(0.16956333333333334, 0.2086)\n",
      "(0.06198333333333334, 0.0718)\n",
      "(0.10681666666666666, 0.1507)\n",
      "(0.33849333333333337, 0.4126)\n",
      "(0.3487633333333333, 0.4415)\n",
      "(0.16534333333333331, 0.2281)\n",
      "(0.1233, 0.1549)\n",
      "(0.16668, 0.1946)\n",
      "(0.27584333333333333, 0.4071)\n",
      "(0.4631433333333333, 0.5147)\n",
      "(0.33110333333333325, 0.3983)\n",
      "(0.8112900000000001, 0.9133)\n",
      "(0.7329500000000002, 0.9294)\n",
      "(0.0821, 0.1192)\n",
      "(0.10176999999999999, 0.1267)\n",
      "(0.059996666666666656, 0.0793)\n",
      "(0.14475999999999997, 0.1959)\n",
      "(0.17149, 0.1941)\n",
      "(0.6397066666666666, 0.7418)\n",
      "(0.4183766666666668, 0.5697)\n",
      "(0.08856, 0.1377)\n",
      "(0.5817866666666666, 0.7809)\n",
      "(0.7226400000000002, 0.7754)\n",
      "(0.12702333333333335, 0.1698)\n",
      "(0.26315333333333335, 0.3796)\n",
      "(0.19898333333333332, 0.2263)\n",
      "(0.22851000000000005, 0.3226)\n",
      "(0.28756, 0.4152)\n",
      "(0.11234333333333336, 0.1324)\n",
      "(0.19384666666666664, 0.261)\n",
      "(0.04808333333333333, 0.068)\n",
      "(0.1454833333333333, 0.1598)\n",
      "(0.17831666666666665, 0.2271)\n",
      "(0.3516900000000001, 0.5443)\n",
      "(0.1402433333333333, 0.1732)\n",
      "(0.3399466666666667, 0.4506)\n",
      "(0.5896566666666666, 0.6908)\n",
      "(0.12439000000000003, 0.1581)\n"
     ]
    },
    {
     "ename": "KeyboardInterrupt",
     "evalue": "",
     "output_type": "error",
     "traceback": [
      "\u001b[1;31m---------------------------------------------------------------------------\u001b[0m",
      "\u001b[1;31mKeyboardInterrupt\u001b[0m                         Traceback (most recent call last)",
      "Cell \u001b[1;32mIn[9], line 6\u001b[0m\n\u001b[0;32m      3\u001b[0m img_dir \u001b[38;5;241m=\u001b[39m \u001b[38;5;124mr\u001b[39m\u001b[38;5;124m\"\u001b[39m\u001b[38;5;124mC:\u001b[39m\u001b[38;5;124m\\\u001b[39m\u001b[38;5;124mUsers\u001b[39m\u001b[38;5;124m\\\u001b[39m\u001b[38;5;124mkhatt\u001b[39m\u001b[38;5;124m\\\u001b[39m\u001b[38;5;124mDownloads\u001b[39m\u001b[38;5;124m\\\u001b[39m\u001b[38;5;124mDataset\u001b[39m\u001b[38;5;124m\\\u001b[39m\u001b[38;5;124mimages\u001b[39m\u001b[38;5;124m\"\u001b[39m\n\u001b[0;32m      4\u001b[0m mask_loader \u001b[38;5;241m=\u001b[39m IDL(img_dir,mask_dir)\n\u001b[1;32m----> 6\u001b[0m \u001b[38;5;28;01mfor\u001b[39;00m img_rgb, img_gray, mask, mask_og, name \u001b[38;5;129;01min\u001b[39;00m mask_loader:\n\u001b[0;32m      7\u001b[0m \n\u001b[0;32m      8\u001b[0m         \u001b[38;5;66;03m# get patient_id and lesion_id from the filename\u001b[39;00m\n\u001b[0;32m      9\u001b[0m         name_split \u001b[38;5;241m=\u001b[39m name\u001b[38;5;241m.\u001b[39msplit(\u001b[38;5;124m'\u001b[39m\u001b[38;5;124m_\u001b[39m\u001b[38;5;124m'\u001b[39m)\n\u001b[0;32m     10\u001b[0m         patient_ID \u001b[38;5;241m=\u001b[39m \u001b[38;5;124m'\u001b[39m\u001b[38;5;124m_\u001b[39m\u001b[38;5;124m'\u001b[39m\u001b[38;5;241m.\u001b[39mjoin(name_split[:\u001b[38;5;241m2\u001b[39m])\n",
      "File \u001b[1;32mc:\\Users\\khatt\\Desktop\\2025-FYP-Final-GroupE\\util\\img_util.py:124\u001b[0m, in \u001b[0;36mImageDataLoader.__iter__\u001b[1;34m(self)\u001b[0m\n\u001b[0;32m    120\u001b[0m \u001b[38;5;28;01mfor\u001b[39;00m i \u001b[38;5;129;01min\u001b[39;00m \u001b[38;5;28mrange\u001b[39m(\u001b[38;5;28mself\u001b[39m\u001b[38;5;241m.\u001b[39mnum_sample):\n\u001b[0;32m    121\u001b[0m     \n\u001b[0;32m    122\u001b[0m     \u001b[38;5;66;03m# try to load the image and mask, if one of the two leads to no such file, update loss counter\u001b[39;00m\n\u001b[0;32m    123\u001b[0m     \u001b[38;5;28;01mtry\u001b[39;00m:\n\u001b[1;32m--> 124\u001b[0m         img_rgb, img_gray \u001b[38;5;241m=\u001b[39m readImageFile(\u001b[38;5;28mself\u001b[39m\u001b[38;5;241m.\u001b[39mimg_list[i])\n\u001b[0;32m    125\u001b[0m         mask_og \u001b[38;5;241m=\u001b[39m readImageFile(\u001b[38;5;28mself\u001b[39m\u001b[38;5;241m.\u001b[39mmask_list[i], is_mask\u001b[38;5;241m=\u001b[39m \u001b[38;5;28;01mTrue\u001b[39;00m)\n\u001b[0;32m    126\u001b[0m         mask \u001b[38;5;241m=\u001b[39m (mask_og \u001b[38;5;241m>\u001b[39m \u001b[38;5;241m127\u001b[39m)\u001b[38;5;241m.\u001b[39mastype(np\u001b[38;5;241m.\u001b[39muint8) \u001b[38;5;66;03m# mask as binary\u001b[39;00m\n",
      "File \u001b[1;32mc:\\Users\\khatt\\Desktop\\2025-FYP-Final-GroupE\\util\\img_util.py:28\u001b[0m, in \u001b[0;36mreadImageFile\u001b[1;34m(file_path, is_mask)\u001b[0m\n\u001b[0;32m     23\u001b[0m     \u001b[38;5;28;01mreturn\u001b[39;00m mask\n\u001b[0;32m     25\u001b[0m \u001b[38;5;66;03m# else we proceed normally\u001b[39;00m\n\u001b[0;32m     26\u001b[0m \n\u001b[0;32m     27\u001b[0m \u001b[38;5;66;03m# read image as an 8-bit array\u001b[39;00m\n\u001b[1;32m---> 28\u001b[0m img_bgr \u001b[38;5;241m=\u001b[39m cv2\u001b[38;5;241m.\u001b[39mimread(file_path)\n\u001b[0;32m     30\u001b[0m \u001b[38;5;66;03m# convert to RGB\u001b[39;00m\n\u001b[0;32m     31\u001b[0m img_rgb \u001b[38;5;241m=\u001b[39m cv2\u001b[38;5;241m.\u001b[39mcvtColor(img_bgr, cv2\u001b[38;5;241m.\u001b[39mCOLOR_BGR2RGB)\n",
      "\u001b[1;31mKeyboardInterrupt\u001b[0m: "
     ]
    }
   ],
   "source": [
    "#testing with binary mask\n",
    "mask_dir = r\"C:\\Users\\khatt\\Desktop\\padchest_lesion_masks\\lesion_masks\"\n",
    "img_dir = r\"C:\\Users\\khatt\\Downloads\\Dataset\\images\"\n",
    "mask_loader = IDL(img_dir,mask_dir)\n",
    "\n",
    "for img_rgb, img_gray, mask, mask_og, name in mask_loader:\n",
    "\n",
    "        # get patient_id and lesion_id from the filename\n",
    "        name_split = name.split('_')\n",
    "        patient_ID = '_'.join(name_split[:2])\n",
    "        lesion_ID = int(name_split[2])\n",
    "\n",
    "        # get full ID\n",
    "        pat_les_ID = '_'.join(name_split[:3])\n",
    "\n",
    "\n",
    "        # extract the features with the proper functions\n",
    "\n",
    "        fA_score = fA_extractor(mask_og)\n",
    "        print(fA_score) "
   ]
  }
 ],
 "metadata": {
  "kernelspec": {
   "display_name": "base",
   "language": "python",
   "name": "python3"
  },
  "language_info": {
   "codemirror_mode": {
    "name": "ipython",
    "version": 3
   },
   "file_extension": ".py",
   "mimetype": "text/x-python",
   "name": "python",
   "nbconvert_exporter": "python",
   "pygments_lexer": "ipython3",
   "version": "3.12.7"
  }
 },
 "nbformat": 4,
 "nbformat_minor": 2
}
