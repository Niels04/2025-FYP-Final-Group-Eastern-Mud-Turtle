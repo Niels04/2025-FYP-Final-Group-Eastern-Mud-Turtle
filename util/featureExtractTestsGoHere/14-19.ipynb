{
 "cells": [
  {
   "cell_type": "code",
   "execution_count": 3,
   "id": "79096903",
   "metadata": {},
   "outputs": [],
   "source": [
    "import numpy as np\n",
    "import sklearn\n",
    "from skimage import morphology\n",
    "import cv2\n",
    "import os\n",
    "import matplotlib.pyplot as plt\n",
    "from skimage.transform import resize\n",
    "from skimage.transform import rotate\n",
    "from sklearn.cluster import KMeans\n",
    "from PIL import Image\n",
    "\n",
    "imgDir = os.path.abspath(os.path.join(os.getcwd(), os.pardir, os.pardir, \"data\"))"
   ]
  },
  {
   "cell_type": "markdown",
   "id": "4d99e54d",
   "metadata": {},
   "source": [
    "### Cut Mask Function\n"
   ]
  },
  {
   "cell_type": "code",
   "execution_count": 1,
   "id": "425da1fe",
   "metadata": {},
   "outputs": [],
   "source": [
    "def cut_mask(mask):\n",
    "    \n",
    "    # input is numpy array mask\n",
    "    col_sums = np.sum(mask, axis=0)     # sums up the values between 0 and 1\n",
    "    row_sums = np.sum(mask, axis=1)     # shows if any row or column contains anything but 0s\n",
    "\n",
    "    active_cols = []        # lists all the columns where there is no lesion\n",
    "    for index, col_sum in enumerate(col_sums):  # takes all columns\n",
    "        if col_sum != 0:                        # if the full column is 0, it's not added to the list\n",
    "            active_cols.append(index)\n",
    "\n",
    "    active_rows = []        # analog for rows\n",
    "    for index, row_sum in enumerate(row_sums):\n",
    "        if row_sum != 0:\n",
    "            active_rows.append(index)\n",
    "\n",
    "    # taking the bordering rows and columns of the mask (excluding the black edges where there is nothing)\n",
    "    col_min = active_cols[0]\n",
    "    col_max = active_cols[-1]\n",
    "    row_min = active_rows[0]\n",
    "    row_max = active_rows[-1]\n",
    "\n",
    "    # saving the new mask\n",
    "    cut_mask_ = mask[row_min:row_max+1, col_min:col_max+1]\n",
    "\n",
    "    return cut_mask_\n"
   ]
  },
  {
   "cell_type": "code",
   "execution_count": null,
   "id": "ddc76754",
   "metadata": {},
   "outputs": [],
   "source": [
    "pathh = \"2025-FYP-Final-GroupE/data/maskTest\"\n",
    "for filename in os.listdir(pathh):\n",
    "    if filename.endswith(\".png\"):\n",
    "        path = os.path.join(pathh, filename)\n",
    "\n",
    "        # Load the mask image as grayscale\n",
    "        mask_image = Image.open(path).convert(\"L\")  # L = 8-bit grayscale\n",
    "        mask_array = np.array(mask_image)\n",
    "\n",
    "        cropped = cut_mask(mask_array)\n",
    "\n",
    "        plt.imshow(cropped, cmap=\"gray\")\n",
    "        plt.title(f\"Cropped: {filename}\")\n",
    "        plt.axis(\"off\")\n",
    "        plt.show()"
   ]
  },
  {
   "cell_type": "markdown",
   "id": "1cd0efe2",
   "metadata": {},
   "source": [
    "### Cut Image By Mask"
   ]
  },
  {
   "cell_type": "code",
   "execution_count": 44,
   "id": "42349f1e",
   "metadata": {},
   "outputs": [],
   "source": [
    "def cut_im_by_mask(image, mask):\n",
    "    \n",
    "    # same as previous function\n",
    "    col_sums = np.sum(mask, axis=0)\n",
    "    row_sums = np.sum(mask, axis=1)\n",
    "\n",
    "    active_cols = []\n",
    "    for index, col_sum in enumerate(col_sums):\n",
    "        if col_sum != 0:\n",
    "            active_cols.append(index)\n",
    "\n",
    "    active_rows = []\n",
    "    for index, row_sum in enumerate(row_sums):\n",
    "        if row_sum != 0:\n",
    "            active_rows.append(index)\n",
    "\n",
    "    col_min = active_cols[0]\n",
    "    col_max = active_cols[-1]\n",
    "    row_min = active_rows[0]\n",
    "    row_max = active_rows[-1]\n",
    "\n",
    "    #except the cutting is applied to the image itself and not the mask\n",
    "    cut_image = image[row_min:row_max+1, col_min:col_max+1]\n",
    "\n",
    "    return cut_image"
   ]
  },
  {
   "cell_type": "code",
   "execution_count": null,
   "id": "0deb821b",
   "metadata": {},
   "outputs": [],
   "source": [
    "img = Image.open(\"bramble_cropped.jpg\"); # replace with any image for testing of size of the mask\n",
    "img_array = np.array(img)\n",
    "pathh = \"2025-FYP-Final-GroupE/data/maskTest\"\n",
    "\n",
    "for filename in os.listdir(pathh):\n",
    "    if filename.endswith(\".png\"):\n",
    "        path = os.path.join(pathh, filename)\n",
    "\n",
    "        mask_image = Image.open(path).convert(\"L\")\n",
    "        mask_array = np.array(mask_image)\n",
    "\n",
    "        cropped_img = cut_im_by_mask(img_array, mask_array)\n",
    "\n",
    "        mask_overlay = np.zeros_like(img_array)\n",
    "        mask_overlay[:, :, 0] = mask_array\n",
    "\n",
    "        plt.figure(figsize=(12, 4))\n",
    "\n",
    "        # 1. Original image\n",
    "        plt.subplot(1, 3, 1)\n",
    "        plt.imshow(img_array)\n",
    "        plt.title(\"Original Image\")\n",
    "        plt.axis(\"off\")\n",
    "\n",
    "        # 2. Image with mask overlay\n",
    "        plt.subplot(1, 3, 2)\n",
    "        plt.imshow(img_array)\n",
    "        plt.imshow(mask_overlay, alpha=0.5, cmap='Reds')  # Overlay mask in red\n",
    "        plt.title(\"Mask Overlay\")\n",
    "        plt.axis(\"off\")\n",
    "\n",
    "        # 3. Cropped result\n",
    "        plt.subplot(1, 3, 3)\n",
    "        plt.imshow(cropped_img)\n",
    "        plt.title(\"Cropped\")\n",
    "        plt.axis(\"off\")\n",
    "\n",
    "        plt.suptitle(f\"File: {filename}\", fontsize=14)\n",
    "        plt.tight_layout()\n",
    "        plt.show()"
   ]
  },
  {
   "cell_type": "markdown",
   "id": "257818e1",
   "metadata": {},
   "source": [
    "### Find Midpoint V1"
   ]
  },
  {
   "cell_type": "code",
   "execution_count": null,
   "id": "ca0773d3",
   "metadata": {},
   "outputs": [],
   "source": [
    "def find_midpoint_v1(image):\n",
    "    \n",
    "    row_mid = image.shape[0] / 2     # nr of the middle row\n",
    "    col_mid = image.shape[1] / 2     # nr of the middle column\n",
    "    return row_mid, col_mid"
   ]
  },
  {
   "cell_type": "code",
   "execution_count": null,
   "id": "0837aa1f",
   "metadata": {},
   "outputs": [
    {
     "name": "stdout",
     "output_type": "stream",
     "text": [
      "Midpoint (row, col): (511.5, 512.0)\n"
     ]
    }
   ],
   "source": [
    "midpoint = find_midpoint_v1(img_array)\n",
    "print(\"Midpoint (row nr, col nr):\", midpoint)"
   ]
  }
 ],
 "metadata": {
  "kernelspec": {
   "display_name": "base",
   "language": "python",
   "name": "python3"
  },
  "language_info": {
   "codemirror_mode": {
    "name": "ipython",
    "version": 3
   },
   "file_extension": ".py",
   "mimetype": "text/x-python",
   "name": "python",
   "nbconvert_exporter": "python",
   "pygments_lexer": "ipython3",
   "version": "3.12.7"
  }
 },
 "nbformat": 4,
 "nbformat_minor": 5
}
