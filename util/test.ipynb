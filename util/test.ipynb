{
 "cells": [
  {
   "cell_type": "code",
   "execution_count": 1,
   "id": "52e19d76",
   "metadata": {},
   "outputs": [],
   "source": [
    "import cv2\n",
    "import numpy as np\n",
    "\n",
    "def readImageFile(file_path, is_mask = False): # added is_mask parameter\n",
    "    \"\"\"Given a path, the corresponding image will be loaded in both rgb and grayscale color format.\n",
    "    If the given image is indicated to be a mask, it will only be loaded in grayscale\n",
    "    \n",
    "    :param file_path: The image path\n",
    "    :param is_mask: Defaulted to False, if set to True it only loads the mask image in grayscale\n",
    "    \n",
    "    :return: RGB and Grayscale image, or Grayscale mask.\n",
    "    \n",
    "    \"\"\"\n",
    "    # if we want to load a binary mask, we read the file in grayscale format\n",
    "    if is_mask:\n",
    "        \n",
    "        mask = cv2.imread(file_path, cv2.IMREAD_GRAYSCALE)\n",
    "        \n",
    "        return mask\n",
    "    \n",
    "    # else we proceed normally\n",
    "\n",
    "    # read image as an 8-bit array\n",
    "    img_bgr = cv2.imread(file_path)\n",
    "\n",
    "    # convert to RGB\n",
    "    img_rgb = cv2.cvtColor(img_bgr, cv2.COLOR_BGR2RGB)\n",
    "    \n",
    "    # convert the original image to grayscale\n",
    "    img_gray = cv2.cvtColor(img_rgb, cv2.COLOR_RGB2GRAY)\n",
    "\n",
    "    return img_rgb, img_gray"
   ]
  },
  {
   "cell_type": "code",
   "execution_count": 2,
   "id": "d3f868da",
   "metadata": {},
   "outputs": [
    {
     "name": "stdout",
     "output_type": "stream",
     "text": [
      "[0 8]\n",
      "1\n",
      "[0]\n",
      "A\n"
     ]
    }
   ],
   "source": [
    "try:\n",
    "    img_rgb, img_gray = readImageFile(\"../data/lesion_imgs/PAT_987_1859_859.png\")\n",
    "    mask = readImageFile(\"../data/lesion_masks/PAT_987_1859_859_mask.png\", is_mask= True)\n",
    "\n",
    "    # if the mask only contains 0s, update counter and skip\n",
    "    unique_vals = np.unique(mask)\n",
    "    print(unique_vals)\n",
    "    print(np.count_nonzero(mask == 8))\n",
    "\n",
    "    binary_mask = (mask > 127).astype(np.uint8)\n",
    "    unique_vals = np.unique(binary_mask)\n",
    "    print(unique_vals)\n",
    "\n",
    "    if len(unique_vals) == 1 and int(unique_vals[0]) == 0:\n",
    "        print(\"A\")\n",
    "\n",
    "except Exception:\n",
    "    print(\"B\")\n",
    "    "
   ]
  }
 ],
 "metadata": {
  "kernelspec": {
   "display_name": "base",
   "language": "python",
   "name": "python3"
  },
  "language_info": {
   "codemirror_mode": {
    "name": "ipython",
    "version": 3
   },
   "file_extension": ".py",
   "mimetype": "text/x-python",
   "name": "python",
   "nbconvert_exporter": "python",
   "pygments_lexer": "ipython3",
   "version": "3.12.4"
  }
 },
 "nbformat": 4,
 "nbformat_minor": 5
}
